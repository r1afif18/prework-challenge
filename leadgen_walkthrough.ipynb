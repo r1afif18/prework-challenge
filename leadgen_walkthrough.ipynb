{
 "cells": [
  {
   "cell_type": "markdown",
   "id": "a573767f-60c9-4788-b8d2-0f3acacad754",
   "metadata": {},
   "source": [
    "# 🏆 Caprae Capital Lead Generation Pipeline – Jupyter Walkthrough\n",
    "\n",
    "This notebook demonstrates, step-by-step, how the modular lead generation pipeline works:  \n",
    "- Generate leads (simulated scraping)  \n",
    "- Enrich leads (dummy email/LinkedIn)  \n",
    "- Export as CSV  \n",
    "All code is production-ready and tested on Linux (VPS).\n"
   ]
  },
  {
   "cell_type": "code",
   "execution_count": 2,
   "id": "475e5cdf-a914-4623-b652-78bb7904ccc4",
   "metadata": {},
   "outputs": [],
   "source": [
    "import sys\n",
    "import os\n",
    "sys.path.append(os.path.abspath('src'))\n",
    "\n",
    "from scraper import scrape_leads\n",
    "from enrich import enrich_contacts\n",
    "import pandas as pd\n"
   ]
  },
  {
   "cell_type": "markdown",
   "id": "e1aa68e2-d021-4342-9df7-664de202b388",
   "metadata": {},
   "source": [
    "## 1. Generate Sample Leads\n",
    "This simulates scraping business leads (dummy data for robustness).\n"
   ]
  },
  {
   "cell_type": "code",
   "execution_count": 3,
   "id": "66b8bb0a-e9da-4cc9-8f64-9413a1bd7e9f",
   "metadata": {},
   "outputs": [
    {
     "data": {
      "text/plain": [
       "[{'name': 'PT Data Cerdas', 'website': 'https://datacerdas.co.id'},\n",
       " {'name': 'CV Software Jaya', 'website': 'https://softwarejaya.com'},\n",
       " {'name': 'Startup Nusantara', 'website': 'https://startupnusantara.com'},\n",
       " {'name': 'Teknologi Hebat', 'website': 'https://teknologihebat.id'},\n",
       " {'name': 'Solusi Digital', 'website': 'https://solusidigital.co'}]"
      ]
     },
     "execution_count": 3,
     "metadata": {},
     "output_type": "execute_result"
    }
   ],
   "source": [
    "# Generate dummy leads\n",
    "leads = scrape_leads(criteria={\"industry\": \"Any\", \"location\": \"Any\"})\n",
    "leads\n"
   ]
  },
  {
   "cell_type": "markdown",
   "id": "c1c2df1c-e8d2-48b2-ada9-5219f9aa828c",
   "metadata": {},
   "source": [
    "## 2. Enrich Leads\n",
    "Add dummy email and LinkedIn profile for each company.\n"
   ]
  },
  {
   "cell_type": "code",
   "execution_count": 4,
   "id": "0ec339f8-0aa1-42f8-91d8-7fc26db6afcb",
   "metadata": {},
   "outputs": [
    {
     "data": {
      "text/html": [
       "<div>\n",
       "<style scoped>\n",
       "    .dataframe tbody tr th:only-of-type {\n",
       "        vertical-align: middle;\n",
       "    }\n",
       "\n",
       "    .dataframe tbody tr th {\n",
       "        vertical-align: top;\n",
       "    }\n",
       "\n",
       "    .dataframe thead th {\n",
       "        text-align: right;\n",
       "    }\n",
       "</style>\n",
       "<table border=\"1\" class=\"dataframe\">\n",
       "  <thead>\n",
       "    <tr style=\"text-align: right;\">\n",
       "      <th></th>\n",
       "      <th>name</th>\n",
       "      <th>website</th>\n",
       "      <th>email</th>\n",
       "      <th>linkedin</th>\n",
       "    </tr>\n",
       "  </thead>\n",
       "  <tbody>\n",
       "    <tr>\n",
       "      <th>0</th>\n",
       "      <td>PT Data Cerdas</td>\n",
       "      <td>https://datacerdas.co.id</td>\n",
       "      <td>ptdatacerdas@example.com</td>\n",
       "      <td>https://www.linkedin.com/in/ptdatacerdas</td>\n",
       "    </tr>\n",
       "    <tr>\n",
       "      <th>1</th>\n",
       "      <td>CV Software Jaya</td>\n",
       "      <td>https://softwarejaya.com</td>\n",
       "      <td>cvsoftwarejaya@example.com</td>\n",
       "      <td>https://www.linkedin.com/in/cvsoftwarejaya</td>\n",
       "    </tr>\n",
       "    <tr>\n",
       "      <th>2</th>\n",
       "      <td>Startup Nusantara</td>\n",
       "      <td>https://startupnusantara.com</td>\n",
       "      <td>startupnusantara@example.com</td>\n",
       "      <td>https://www.linkedin.com/in/startupnusantara</td>\n",
       "    </tr>\n",
       "    <tr>\n",
       "      <th>3</th>\n",
       "      <td>Teknologi Hebat</td>\n",
       "      <td>https://teknologihebat.id</td>\n",
       "      <td>teknologihebat@example.com</td>\n",
       "      <td>https://www.linkedin.com/in/teknologihebat</td>\n",
       "    </tr>\n",
       "    <tr>\n",
       "      <th>4</th>\n",
       "      <td>Solusi Digital</td>\n",
       "      <td>https://solusidigital.co</td>\n",
       "      <td>solusidigital@example.com</td>\n",
       "      <td>https://www.linkedin.com/in/solusidigital</td>\n",
       "    </tr>\n",
       "  </tbody>\n",
       "</table>\n",
       "</div>"
      ],
      "text/plain": [
       "                name                       website  \\\n",
       "0     PT Data Cerdas      https://datacerdas.co.id   \n",
       "1   CV Software Jaya      https://softwarejaya.com   \n",
       "2  Startup Nusantara  https://startupnusantara.com   \n",
       "3    Teknologi Hebat     https://teknologihebat.id   \n",
       "4     Solusi Digital      https://solusidigital.co   \n",
       "\n",
       "                          email                                      linkedin  \n",
       "0      ptdatacerdas@example.com      https://www.linkedin.com/in/ptdatacerdas  \n",
       "1    cvsoftwarejaya@example.com    https://www.linkedin.com/in/cvsoftwarejaya  \n",
       "2  startupnusantara@example.com  https://www.linkedin.com/in/startupnusantara  \n",
       "3    teknologihebat@example.com    https://www.linkedin.com/in/teknologihebat  \n",
       "4     solusidigital@example.com     https://www.linkedin.com/in/solusidigital  "
      ]
     },
     "execution_count": 4,
     "metadata": {},
     "output_type": "execute_result"
    }
   ],
   "source": [
    "df = enrich_contacts(leads)\n",
    "df\n"
   ]
  },
  {
   "cell_type": "markdown",
   "id": "b2fa4b17-be01-452f-8f95-61d60bde60ee",
   "metadata": {},
   "source": [
    "## 3. Export as CSV\n",
    "Save the enriched leads for CRM or sales workflow integration.\n"
   ]
  },
  {
   "cell_type": "code",
   "execution_count": 5,
   "id": "be5889bd-606d-48cd-9b52-8e75cc06439c",
   "metadata": {},
   "outputs": [
    {
     "name": "stdout",
     "output_type": "stream",
     "text": [
      "CSV saved as data/leads_from_notebook.csv\n"
     ]
    }
   ],
   "source": [
    "df.to_csv('data/leads_from_notebook.csv', index=False)\n",
    "print(\"CSV saved as data/leads_from_notebook.csv\")\n"
   ]
  },
  {
   "cell_type": "markdown",
   "id": "0ed63ee7-28d2-4c13-b0e2-de3111eca3d7",
   "metadata": {},
   "source": [
    "## ✅ Recap & Next Steps\n",
    "\n",
    "- Pipeline is modular: swap in real scraping/enrichment anytime.\n",
    "- All steps work in cloud/Linux VPS environment.\n",
    "- Can be extended for more complex enrichment, deduplication, or CRM integration.\n",
    "\n",
    "*Developed by Rafif Sudanta for Caprae Capital Prework Technical Challenge.*\n"
   ]
  },
  {
   "cell_type": "code",
   "execution_count": null,
   "id": "af16fae3-2a30-42b4-ad89-c2e34e855ecc",
   "metadata": {},
   "outputs": [],
   "source": []
  }
 ],
 "metadata": {
  "kernelspec": {
   "display_name": "Python 3 (ipykernel)",
   "language": "python",
   "name": "python3"
  },
  "language_info": {
   "codemirror_mode": {
    "name": "ipython",
    "version": 3
   },
   "file_extension": ".py",
   "mimetype": "text/x-python",
   "name": "python",
   "nbconvert_exporter": "python",
   "pygments_lexer": "ipython3",
   "version": "3.13.2"
  }
 },
 "nbformat": 4,
 "nbformat_minor": 5
}
